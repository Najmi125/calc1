{
  "nbformat": 4,
  "nbformat_minor": 0,
  "metadata": {
    "colab": {
      "provenance": [],
      "authorship_tag": "ABX9TyPhssbNrMf2u/YCBO7AiTbp",
      "include_colab_link": true
    },
    "kernelspec": {
      "name": "python3",
      "display_name": "Python 3"
    },
    "language_info": {
      "name": "python"
    }
  },
  "cells": [
    {
      "cell_type": "markdown",
      "metadata": {
        "id": "view-in-github",
        "colab_type": "text"
      },
      "source": [
        "<a href=\"https://colab.research.google.com/github/Najmi125/calc1/blob/main/TempConv.ipynb\" target=\"_parent\"><img src=\"https://colab.research.google.com/assets/colab-badge.svg\" alt=\"Open In Colab\"/></a>"
      ]
    },
    {
      "cell_type": "code",
      "execution_count": 2,
      "metadata": {
        "colab": {
          "base_uri": "https://localhost:8080/"
        },
        "id": "jOUcYzUmfyXn",
        "outputId": "475b8575-618c-45eb-eba3-0162cd80f135"
      },
      "outputs": [
        {
          "output_type": "stream",
          "name": "stdout",
          "text": [
            "Select the input temperature scale:\n",
            "1. Celsius\n",
            "2. Fahrenheit\n",
            "Enter your choice (1/2): 1\n",
            "Enter temperature in Celsius: 24\n",
            "24.0°C is 75.2°F\n"
          ]
        }
      ],
      "source": [
        "def celsius_to_fahrenheit(celsius):\n",
        "    return (celsius * 9/5) + 32\n",
        "\n",
        "def fahrenheit_to_celsius(fahrenheit):\n",
        "    return (fahrenheit - 32) * 5/9\n",
        "\n",
        "def convert_temperature():\n",
        "    print(\"Select the input temperature scale:\")\n",
        "    print(\"1. Celsius\")\n",
        "    print(\"2. Fahrenheit\")\n",
        "\n",
        "    choice = input(\"Enter your choice (1/2): \")\n",
        "\n",
        "    if choice == '1':\n",
        "        celsius = float(input(\"Enter temperature in Celsius: \"))\n",
        "        fahrenheit = celsius_to_fahrenheit(celsius)\n",
        "        print(f\"{celsius}°C is {fahrenheit}°F\")\n",
        "\n",
        "    elif choice == '2':\n",
        "        fahrenheit = float(input(\"Enter temperature in Fahrenheit: \"))\n",
        "        celsius = fahrenheit_to_celsius(fahrenheit)\n",
        "        print(f\"{fahrenheit}°F is {celsius}°C\")\n",
        "\n",
        "    else:\n",
        "        print(\"Invalid choice. Please select 1 or 2.\")\n",
        "\n",
        "# Example usage:\n",
        "convert_temperature()\n"
      ]
    }
  ]
}